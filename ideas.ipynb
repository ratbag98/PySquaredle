{
 "cells": [
  {
   "cell_type": "code",
   "execution_count": 31,
   "metadata": {},
   "outputs": [],
   "source": [
    "#%load_ext autoreload\n",
    "%autoreload 2\n",
    "\n",
    "from trie import Trie\n",
    "from puzzle import Puzzle\n",
    "\n",
    "\n",
    "tr = Trie()\n",
    "\n",
    "puzzle = Puzzle(\"ABCDEFGHI\", 3)"
   ]
  },
  {
   "cell_type": "code",
   "execution_count": 32,
   "metadata": {},
   "outputs": [
    {
     "name": "stdout",
     "output_type": "stream",
     "text": [
      "ABC\n",
      "DEF\n",
      "GHI\n",
      "\n",
      ", , , \n",
      ", , , \n",
      ", , , \n",
      "\n",
      "[[], [], [], [], [], [], [], [], []]\n"
     ]
    }
   ],
   "source": [
    "print(puzzle.grid())\n",
    "print(puzzle.list_neighbours())\n",
    "print(puzzle.neighbours)"
   ]
  }
 ],
 "metadata": {
  "kernelspec": {
   "display_name": "squaredle",
   "language": "python",
   "name": "python3"
  },
  "language_info": {
   "codemirror_mode": {
    "name": "ipython",
    "version": 3
   },
   "file_extension": ".py",
   "mimetype": "text/x-python",
   "name": "python",
   "nbconvert_exporter": "python",
   "pygments_lexer": "ipython3",
   "version": "3.10.8"
  },
  "orig_nbformat": 4,
  "vscode": {
   "interpreter": {
    "hash": "0f2c83cbb660b2fe2758651b823f5521ab86550e058bd541e57d262f3764ed49"
   }
  }
 },
 "nbformat": 4,
 "nbformat_minor": 2
}
