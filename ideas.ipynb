{
 "cells": [
  {
   "cell_type": "code",
   "execution_count": 8,
   "metadata": {},
   "outputs": [],
   "source": [
    "from trie import Trie\n",
    "from puzzle import Puzzle\n",
    "\n",
    "tr = Trie()\n"
   ]
  },
  {
   "cell_type": "code",
   "execution_count": 9,
   "metadata": {},
   "outputs": [
    {
     "ename": "AttributeError",
     "evalue": "'Puzzle' object has no attribute 'size'",
     "output_type": "error",
     "traceback": [
      "\u001b[0;31m---------------------------------------------------------------------------\u001b[0m",
      "\u001b[0;31mAttributeError\u001b[0m                            Traceback (most recent call last)",
      "Cell \u001b[0;32mIn[9], line 2\u001b[0m\n\u001b[1;32m      1\u001b[0m puzzle\u001b[39m=\u001b[39mPuzzle(\u001b[39m'\u001b[39m\u001b[39mANTHROPOMORPHIZE\u001b[39m\u001b[39m'\u001b[39m,\u001b[39m4\u001b[39m)\n\u001b[0;32m----> 2\u001b[0m puzzle\u001b[39m.\u001b[39;49mgrid()\n",
      "File \u001b[0;32m~/dev/PySquaredle/puzzle.py:9\u001b[0m, in \u001b[0;36mPuzzle.grid\u001b[0;34m(self)\u001b[0m\n\u001b[1;32m      7\u001b[0m \u001b[39mdef\u001b[39;00m \u001b[39mgrid\u001b[39m(\u001b[39mself\u001b[39m):\n\u001b[1;32m      8\u001b[0m   grid \u001b[39m=\u001b[39m \u001b[39m'\u001b[39m\u001b[39m'\u001b[39m\n\u001b[0;32m----> 9\u001b[0m   \u001b[39mfor\u001b[39;00m y \u001b[39min\u001b[39;00m \u001b[39mrange\u001b[39m(\u001b[39mself\u001b[39;49m\u001b[39m.\u001b[39;49msize):\n\u001b[1;32m     10\u001b[0m     start \u001b[39m=\u001b[39m \u001b[39mself\u001b[39m\u001b[39m.\u001b[39midx(\u001b[39m0\u001b[39m, y)\n\u001b[1;32m     11\u001b[0m     end \u001b[39m=\u001b[39m \u001b[39mself\u001b[39m\u001b[39m.\u001b[39midx(\u001b[39mself\u001b[39m\u001b[39m.\u001b[39msize, y)\n",
      "\u001b[0;31mAttributeError\u001b[0m: 'Puzzle' object has no attribute 'size'"
     ]
    }
   ],
   "source": [
    "puzzle=Puzzle('ANTHROPOMORPHIZE',4)\n",
    "puzzle.grid()"
   ]
  },
  {
   "cell_type": "code",
   "execution_count": null,
   "metadata": {},
   "outputs": [],
   "source": [
    "tr.search(\"r\")\n",
    "tr.search(\"h\")\n",
    "tr.search(\"telephone\")"
   ]
  },
  {
   "cell_type": "code",
   "execution_count": null,
   "metadata": {},
   "outputs": [],
   "source": [
    "with open('word_list.txt') as wl:\n",
    "  Lines = wl.readlines()\n",
    "  for line in Lines:\n",
    "    tr.insert(line.rstrip())"
   ]
  },
  {
   "cell_type": "code",
   "execution_count": null,
   "metadata": {},
   "outputs": [],
   "source": [
    "tr.search(\"rober\")"
   ]
  }
 ],
 "metadata": {
  "kernelspec": {
   "display_name": "squaredle",
   "language": "python",
   "name": "python3"
  },
  "language_info": {
   "codemirror_mode": {
    "name": "ipython",
    "version": 3
   },
   "file_extension": ".py",
   "mimetype": "text/x-python",
   "name": "python",
   "nbconvert_exporter": "python",
   "pygments_lexer": "ipython3",
   "version": "3.10.8"
  },
  "orig_nbformat": 4,
  "vscode": {
   "interpreter": {
    "hash": "0f2c83cbb660b2fe2758651b823f5521ab86550e058bd541e57d262f3764ed49"
   }
  }
 },
 "nbformat": 4,
 "nbformat_minor": 2
}
