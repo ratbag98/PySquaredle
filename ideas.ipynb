{
 "cells": [
  {
   "cell_type": "code",
   "execution_count": 20,
   "metadata": {},
   "outputs": [],
   "source": [
    "from trie import Trie\n",
    "\n",
    "tr = Trie()\n"
   ]
  },
  {
   "cell_type": "code",
   "execution_count": 21,
   "metadata": {},
   "outputs": [
    {
     "data": {
      "text/plain": [
       "[]"
      ]
     },
     "execution_count": 21,
     "metadata": {},
     "output_type": "execute_result"
    }
   ],
   "source": [
    "tr.search(\"r\")\n",
    "tr.search(\"h\")\n",
    "tr.search(\"telephone\")"
   ]
  },
  {
   "cell_type": "code",
   "execution_count": 22,
   "metadata": {},
   "outputs": [],
   "source": [
    "with open('word_list.txt') as wl:\n",
    "  Lines = wl.readlines()\n",
    "  for line in Lines:\n",
    "    tr.insert(line.rstrip())"
   ]
  },
  {
   "cell_type": "code",
   "execution_count": 32,
   "metadata": {},
   "outputs": [
    {
     "data": {
      "text/plain": [
       "['rober', 'roberd']"
      ]
     },
     "execution_count": 32,
     "metadata": {},
     "output_type": "execute_result"
    }
   ],
   "source": [
    "tr.search(\"rober\")"
   ]
  }
 ],
 "metadata": {
  "kernelspec": {
   "display_name": "squaredle",
   "language": "python",
   "name": "python3"
  },
  "language_info": {
   "codemirror_mode": {
    "name": "ipython",
    "version": 3
   },
   "file_extension": ".py",
   "mimetype": "text/x-python",
   "name": "python",
   "nbconvert_exporter": "python",
   "pygments_lexer": "ipython3",
   "version": "3.10.8"
  },
  "orig_nbformat": 4,
  "vscode": {
   "interpreter": {
    "hash": "0f2c83cbb660b2fe2758651b823f5521ab86550e058bd541e57d262f3764ed49"
   }
  }
 },
 "nbformat": 4,
 "nbformat_minor": 2
}
